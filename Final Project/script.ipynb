{
 "cells": [
  {
   "cell_type": "markdown",
   "metadata": {},
   "source": [
    "# World Meteorological Organization"
   ]
  },
  {
   "cell_type": "markdown",
   "metadata": {},
   "source": [
    "Loading Dataset"
   ]
  },
  {
   "cell_type": "code",
   "execution_count": 1,
   "metadata": {},
   "outputs": [
    {
     "name": "stdout",
     "output_type": "stream",
     "text": [
      "       ID         DOB   M_STATUS     SALARY       EDU_DATA    EMP_DATA  \\\n",
      "0  3345.0   7/22/1964    Married     0-100K  Post-Graduate  Unemployed   \n",
      "1  3346.0    9/9/1981  Unmarried  300k-500k    High-School    Employed   \n",
      "2  3347.0    5/8/1978    Married  100k-300k    High-School    Employed   \n",
      "3  3348.0   6/21/1978  Unmarried  300k-500k       Graduate    Employed   \n",
      "4  3349.0  12/14/1968  Unmarried  500k-700k    High-School  Unemployed   \n",
      "\n",
      "  REL_ORIEN                 FAV_TV      PREF_CAR GENDER  ... FAV_COLR  \\\n",
      "0  Believer  How I Met your mother          Ford   Male  ...    Green   \n",
      "1  Believer        Big Bang Theory  Daimler-Benz   Male  ...   Orange   \n",
      "2  Believer                  Flash        Suzuki   Male  ...    White   \n",
      "3  Agnostic                Friends          Audi   Male  ...    Green   \n",
      "4  Agnostic           Prison Break           BMW   Male  ...    Black   \n",
      "\n",
      "        NEWS_SOURCE DIST_FRM_COAST MNTLY_TRAVEL GEN_MOVIES   FAV_SUBJ  \\\n",
      "0    New York Times       10-25 KM   250-500 KM     Comedy        Art   \n",
      "1  Associated Press       60-80 KM  500-1000 KM   Thriller      Maths   \n",
      "2          Fox News       10-25 KM     0-250 KM     Horror  Chemistry   \n",
      "3               BBC        0-10 KM     0-250 KM   Romantic    English   \n",
      "4          Fox News       10-25 KM     0-250 KM   Thriller    Biology   \n",
      "\n",
      "        ALCOHOL FAV_SUPERHERO Dist_Coast Class  \n",
      "0           Gin      The hulk      462.0     y  \n",
      "1  Non Drinkers          Thor      269.0     y  \n",
      "2           Rum     spiderman     1308.0     x  \n",
      "3          wine       Ironman     1039.0     y  \n",
      "4         Vodka          Thor      272.0     y  \n",
      "\n",
      "[5 rows x 24 columns]\n"
     ]
    }
   ],
   "source": [
    "import pandas as pd\n",
    "\n",
    "dataset = pd.read_csv('World_MO_Hurricane_Survival.csv')\n",
    "print(dataset.head())"
   ]
  },
  {
   "cell_type": "markdown",
   "metadata": {},
   "source": [
    "Checking for Null Value"
   ]
  },
  {
   "cell_type": "code",
   "execution_count": 2,
   "metadata": {},
   "outputs": [
    {
     "name": "stdout",
     "output_type": "stream",
     "text": [
      "ID                 True\n",
      "DOB                True\n",
      "M_STATUS           True\n",
      "SALARY             True\n",
      "EDU_DATA           True\n",
      "EMP_DATA           True\n",
      "REL_ORIEN          True\n",
      "FAV_TV             True\n",
      "PREF_CAR           True\n",
      "GENDER             True\n",
      "FAV_CUIS           True\n",
      "FAV_MUSIC          True\n",
      "ENDU_LEVEL         True\n",
      "FAV_SPORT          True\n",
      "FAV_COLR           True\n",
      "NEWS_SOURCE        True\n",
      "DIST_FRM_COAST     True\n",
      "MNTLY_TRAVEL       True\n",
      "GEN_MOVIES         True\n",
      "FAV_SUBJ           True\n",
      "ALCOHOL            True\n",
      "FAV_SUPERHERO      True\n",
      "Dist_Coast         True\n",
      "Class             False\n",
      "dtype: bool\n"
     ]
    }
   ],
   "source": [
    "print(dataset.isna().any())"
   ]
  },
  {
   "cell_type": "markdown",
   "metadata": {},
   "source": [
    "Removing affected rows"
   ]
  },
  {
   "cell_type": "code",
   "execution_count": 3,
   "metadata": {},
   "outputs": [
    {
     "name": "stdout",
     "output_type": "stream",
     "text": [
      "ID                False\n",
      "DOB               False\n",
      "M_STATUS          False\n",
      "SALARY            False\n",
      "EDU_DATA          False\n",
      "EMP_DATA          False\n",
      "REL_ORIEN         False\n",
      "FAV_TV            False\n",
      "PREF_CAR          False\n",
      "GENDER            False\n",
      "FAV_CUIS          False\n",
      "FAV_MUSIC         False\n",
      "ENDU_LEVEL        False\n",
      "FAV_SPORT         False\n",
      "FAV_COLR          False\n",
      "NEWS_SOURCE       False\n",
      "DIST_FRM_COAST    False\n",
      "MNTLY_TRAVEL      False\n",
      "GEN_MOVIES        False\n",
      "FAV_SUBJ          False\n",
      "ALCOHOL           False\n",
      "FAV_SUPERHERO     False\n",
      "Dist_Coast        False\n",
      "Class             False\n",
      "dtype: bool\n"
     ]
    }
   ],
   "source": [
    "dataset = dataset.dropna()\n",
    "dataset.reset_index(drop=True, inplace=True)\n",
    "print(dataset.isna().any())"
   ]
  },
  {
   "cell_type": "markdown",
   "metadata": {},
   "source": [
    "Separating feature and target"
   ]
  },
  {
   "cell_type": "code",
   "execution_count": 4,
   "metadata": {},
   "outputs": [
    {
     "data": {
      "text/plain": [
       "(             DOB   M_STATUS     SALARY       EDU_DATA       EMP_DATA  \\\n",
       " 0      7/22/1964    Married     0-100K  Post-Graduate     Unemployed   \n",
       " 1       9/9/1981  Unmarried  300k-500k    High-School       Employed   \n",
       " 2       5/8/1978    Married  100k-300k    High-School       Employed   \n",
       " 3      6/21/1978  Unmarried  300k-500k       Graduate       Employed   \n",
       " 4     12/14/1968  Unmarried  500k-700k    High-School     Unemployed   \n",
       " ...          ...        ...        ...            ...            ...   \n",
       " 4946    8/5/1962    Married  500k-700k       Graduate       Employed   \n",
       " 4947   8/14/1982  Unmarried  300k-500k    High-School       Employed   \n",
       " 4948   4/28/1972    Married  100k-300k    High-School       Employed   \n",
       " 4949  11/11/1972    Married  100k-300k     Uneducated       Employed   \n",
       " 4950    9/4/1972    Married     0-100K  Post-Graduate  Self-Employed   \n",
       " \n",
       "      REL_ORIEN                 FAV_TV      PREF_CAR  GENDER  FAV_CUIS  ...  \\\n",
       " 0     Believer  How I Met your mother          Ford    Male      Thai  ...   \n",
       " 1     Believer        Big Bang Theory  Daimler-Benz    Male   Mexican  ...   \n",
       " 2     Believer                  Flash        Suzuki    Male      Thai  ...   \n",
       " 3     Agnostic                Friends          Audi    Male  Lebanese  ...   \n",
       " 4     Agnostic           Prison Break           BMW    Male   Chinese  ...   \n",
       " ...        ...                    ...           ...     ...       ...  ...   \n",
       " 4946  Believer                 Narcos  Daimler-Benz    Male   Chinese  ...   \n",
       " 4947  Believer                Friends        Toyota    Male      Thai  ...   \n",
       " 4948   Atheist           Breaking Bad        Suzuki    Male      Thai  ...   \n",
       " 4949  Believer  How I Met your mother        Nissan    Male      Thai  ...   \n",
       " 4950  Agnostic  How I Met your mother          Ford  Female    French  ...   \n",
       " \n",
       "        FAV_SPORT FAV_COLR       NEWS_SOURCE DIST_FRM_COAST  MNTLY_TRAVEL  \\\n",
       " 0          Rugby    Green    New York Times       10-25 KM    250-500 KM   \n",
       " 1     Basketball   Orange  Associated Press       60-80 KM   500-1000 KM   \n",
       " 2     Basketball    White          Fox News       10-25 KM      0-250 KM   \n",
       " 3     volleyball    Green               BBC        0-10 KM      0-250 KM   \n",
       " 4     volleyball    Black          Fox News       10-25 KM      0-250 KM   \n",
       " ...          ...      ...               ...            ...           ...   \n",
       " 4946       Rugby      Red           Reuters       60-80 KM    250-500 KM   \n",
       " 4947      Soccer    White          Fox News       60-80 KM      2000+ KM   \n",
       " 4948    Baseball   purple  Associated Press        0-10 KM      2000+ KM   \n",
       " 4949       Rugby    Black    New York Times        0-10 KM      0-250 KM   \n",
       " 4950     Cricket    Black          Fox News       40-60 KM  1500-2000 KM   \n",
       " \n",
       "       GEN_MOVIES   FAV_SUBJ       ALCOHOL FAV_SUPERHERO Dist_Coast  \n",
       " 0         Comedy        Art           Gin      The hulk      462.0  \n",
       " 1       Thriller      Maths  Non Drinkers          Thor      269.0  \n",
       " 2         Horror  Chemistry           Rum     spiderman     1308.0  \n",
       " 3       Romantic    English          wine       Ironman     1039.0  \n",
       " 4       Thriller    Biology         Vodka          Thor      272.0  \n",
       " ...          ...        ...           ...           ...        ...  \n",
       " 4946       Drama    Physics           Rum        Batman     1249.0  \n",
       " 4947  Historical     Civics          Beer       Ironman      130.0  \n",
       " 4948       Drama    Physics          Beer        Batman      417.0  \n",
       " 4949      Action    Biology           Gin  wonder woman      391.0  \n",
       " 4950      Horror  Chemistry  Non Drinkers     spiderman      497.0  \n",
       " \n",
       " [4951 rows x 22 columns],\n",
       " 0       y\n",
       " 1       y\n",
       " 2       x\n",
       " 3       y\n",
       " 4       y\n",
       "        ..\n",
       " 4946    y\n",
       " 4947    x\n",
       " 4948    y\n",
       " 4949    x\n",
       " 4950    y\n",
       " Name: Class, Length: 4951, dtype: object)"
      ]
     },
     "execution_count": 4,
     "metadata": {},
     "output_type": "execute_result"
    }
   ],
   "source": [
    "X = dataset.iloc[:,1:-1]\n",
    "y = dataset.iloc[:,-1]\n",
    "X, y"
   ]
  },
  {
   "cell_type": "markdown",
   "metadata": {},
   "source": [
    "## Feature Engineering\n",
    "\n",
    "Majority of the data is in categorical variable so it must be selected and processed in certain way"
   ]
  },
  {
   "cell_type": "code",
   "execution_count": 5,
   "metadata": {},
   "outputs": [],
   "source": [
    "def encode_salary(x):\n",
    "    if x == '0-100K':\n",
    "        return 1\n",
    "    elif x == '100k-300k':\n",
    "        return 2\n",
    "    elif x == '300k-500k':\n",
    "        return 3\n",
    "    elif x == '500k-700k':\n",
    "        return 4\n",
    "    elif x == '700k-1 Million':\n",
    "        return 5\n",
    "    elif x == '1M-2Million':\n",
    "        return 6\n",
    "    else:\n",
    "        return x\n",
    "\n",
    "def encode_edu_data(x):\n",
    "    if x == 'Uneducated':\n",
    "        return 0\n",
    "    elif x == 'High-School':\n",
    "        return 1\n",
    "    elif x == 'Graduate':\n",
    "        return 2\n",
    "    elif x == 'Post-Graduate':\n",
    "        return 3\n",
    "    else:\n",
    "        return x\n",
    "    \n",
    "def encode_endu_level(x):\n",
    "    if x == '1 to 3':\n",
    "        return 1\n",
    "    elif x == '3 to 5':\n",
    "        return 2\n",
    "    elif x == '6 to 10':\n",
    "        return 3\n",
    "    elif x == '10 to 12':\n",
    "        return 4\n",
    "    elif x == '12 to 15':\n",
    "        return 5\n",
    "    elif x == '15-18':\n",
    "        return 6\n",
    "    elif x == '18-20':\n",
    "        return 7\n",
    "    elif x == '20+':\n",
    "        return 8\n",
    "    else:\n",
    "        return x\n",
    "\n",
    "def encode_mntly_travel(x):\n",
    "    if x == '0-250 KM':\n",
    "        return 1\n",
    "    elif x == '250-500 KM':\n",
    "        return 2\n",
    "    elif x == '500-1000 KM':\n",
    "        return 3\n",
    "    elif x == '1000-1500 KM':\n",
    "        return 4\n",
    "    elif x == '1500-2000 KM':\n",
    "        return 5\n",
    "    elif x == '2000+ KM':\n",
    "        return 6\n",
    "    else:\n",
    "        return x\n",
    "\n",
    "def encode_dist_frm_coast(x):\n",
    "    # ['10-25 KM', '60-80 KM', '0-10 KM', '25-40 KM', '40-60 KM']\n",
    "    if x == '0-10 KM':\n",
    "        return 1\n",
    "    elif x == '10-25 KM':\n",
    "        return 2\n",
    "    elif x == '25-40 KM':\n",
    "        return 3\n",
    "    elif x == '40-60 KM':\n",
    "        return 4\n",
    "    elif x == '60-80 KM':\n",
    "        return 5\n",
    "    else:\n",
    "        return x"
   ]
  },
  {
   "cell_type": "code",
   "execution_count": 6,
   "metadata": {},
   "outputs": [],
   "source": [
    "X[['SALARY']] = [encode_salary(x) for x in X['SALARY']]\n",
    "X[['EDU_DATA']] = [encode_edu_data(x) for x in X['EDU_DATA']]\n",
    "X[['ENDU_LEVEL']] = [encode_endu_level(x) for x in X['ENDU_LEVEL']]\n",
    "X[['MNTLY_TRAVEL']] = [encode_mntly_travel(x) for x in X['MNTLY_TRAVEL']]\n",
    "X[['DIST_FRM_COAST']] = [encode_dist_frm_coast(x) for x in X['DIST_FRM_COAST']]"
   ]
  },
  {
   "cell_type": "code",
   "execution_count": 7,
   "metadata": {},
   "outputs": [],
   "source": [
    "from datetime import date, datetime\n",
    "def calculate_age(born):\n",
    "    today = date.today()\n",
    "    return today.year - born.year - ((today.month, today.day) < (born.month, born.day))"
   ]
  },
  {
   "cell_type": "code",
   "execution_count": 8,
   "metadata": {},
   "outputs": [],
   "source": [
    "X[['DOB']] = [calculate_age(datetime.strptime(x, '%m/%d/%Y')) for x in dataset['DOB']]\n",
    "X = X.rename(columns={'DOB': 'AGE'})"
   ]
  },
  {
   "cell_type": "code",
   "execution_count": 9,
   "metadata": {},
   "outputs": [
    {
     "data": {
      "text/plain": [
       "[('M_STATUS', 3),\n",
       " ('EMP_DATA', 3),\n",
       " ('REL_ORIEN', 3),\n",
       " ('GENDER', 3),\n",
       " ('GEN_MOVIES', 7),\n",
       " ('ALCOHOL', 7),\n",
       " ('FAV_SUPERHERO', 7),\n",
       " ('FAV_MUSIC', 8),\n",
       " ('FAV_SPORT', 8),\n",
       " ('NEWS_SOURCE', 8),\n",
       " ('FAV_CUIS', 9),\n",
       " ('FAV_COLR', 9),\n",
       " ('FAV_TV', 10),\n",
       " ('FAV_SUBJ', 10),\n",
       " ('PREF_CAR', 14)]"
      ]
     },
     "execution_count": 9,
     "metadata": {},
     "output_type": "execute_result"
    }
   ],
   "source": [
    "object_cols = [col for col in X.columns if X[col].dtype == \"object\"]\n",
    "\n",
    "object_nunique = list(map(lambda col: X[col].nunique(), object_cols))\n",
    "d = dict(zip(object_cols, object_nunique))\n",
    "\n",
    "sorted(d.items(), key=lambda x: x[1])"
   ]
  },
  {
   "cell_type": "markdown",
   "metadata": {},
   "source": [
    "Dari feature yang kita punya, dapat dilihat semua feature yang merupakan kategorical, disini kita akan memilih feature dibawah 7 kategori untuk di OneHotEncode, sedangkan sisanya di OrdinalEncode agar tidak terlalu banyak mengexpand dataset kita"
   ]
  },
  {
   "cell_type": "code",
   "execution_count": 10,
   "metadata": {},
   "outputs": [],
   "source": [
    "low_cardinality_cols = ['M_STATUS', 'EMP_DATA', 'REL_ORIEN', 'GENDER']\n",
    "high_cardinality_cols = ['GEN_MOVIES', 'ALCOHOL', 'FAV_SUPERHERO', 'FAV_MUSIC', 'FAV_SPORT', 'NEWS_SOURCE', 'FAV_CUIS', 'FAV_COLR', 'FAV_TV', 'FAV_SUBJ', 'PREF_CAR']"
   ]
  },
  {
   "cell_type": "code",
   "execution_count": 11,
   "metadata": {},
   "outputs": [],
   "source": [
    "from sklearn.preprocessing import OneHotEncoder\n",
    "\n",
    "for f in low_cardinality_cols:\n",
    "    encoder = OneHotEncoder(sparse=False)\n",
    "    feature_encoded = pd.DataFrame(encoder.fit_transform(X[[f]]))\n",
    "    feature_encoded.columns = encoder.get_feature_names([f])\n",
    "    X.drop([f], axis=1, inplace=True)\n",
    "    X = pd.concat([X, feature_encoded], axis=1)"
   ]
  },
  {
   "cell_type": "code",
   "execution_count": 12,
   "metadata": {},
   "outputs": [],
   "source": [
    "from sklearn.preprocessing import OrdinalEncoder\n",
    "\n",
    "X[high_cardinality_cols] = OrdinalEncoder().fit_transform(X[high_cardinality_cols])"
   ]
  },
  {
   "cell_type": "code",
   "execution_count": 13,
   "metadata": {},
   "outputs": [
    {
     "data": {
      "text/plain": [
       "array([[<matplotlib.axes._subplots.AxesSubplot object at 0x000001851384A208>,\n",
       "        <matplotlib.axes._subplots.AxesSubplot object at 0x0000018516BAF848>,\n",
       "        <matplotlib.axes._subplots.AxesSubplot object at 0x0000018516BE9608>,\n",
       "        <matplotlib.axes._subplots.AxesSubplot object at 0x0000018516C21708>,\n",
       "        <matplotlib.axes._subplots.AxesSubplot object at 0x0000018516C59848>],\n",
       "       [<matplotlib.axes._subplots.AxesSubplot object at 0x0000018516C8F948>,\n",
       "        <matplotlib.axes._subplots.AxesSubplot object at 0x0000018516CC99C8>,\n",
       "        <matplotlib.axes._subplots.AxesSubplot object at 0x0000018516D01B08>,\n",
       "        <matplotlib.axes._subplots.AxesSubplot object at 0x0000018516D0C708>,\n",
       "        <matplotlib.axes._subplots.AxesSubplot object at 0x0000018516D438C8>],\n",
       "       [<matplotlib.axes._subplots.AxesSubplot object at 0x0000018516DA9E48>,\n",
       "        <matplotlib.axes._subplots.AxesSubplot object at 0x0000018516DE0EC8>,\n",
       "        <matplotlib.axes._subplots.AxesSubplot object at 0x0000018516E18FC8>,\n",
       "        <matplotlib.axes._subplots.AxesSubplot object at 0x0000018516E55148>,\n",
       "        <matplotlib.axes._subplots.AxesSubplot object at 0x0000018516E8D248>],\n",
       "       [<matplotlib.axes._subplots.AxesSubplot object at 0x0000018516EC5348>,\n",
       "        <matplotlib.axes._subplots.AxesSubplot object at 0x0000018516EFD448>,\n",
       "        <matplotlib.axes._subplots.AxesSubplot object at 0x0000018516F37588>,\n",
       "        <matplotlib.axes._subplots.AxesSubplot object at 0x0000018516F73E88>,\n",
       "        <matplotlib.axes._subplots.AxesSubplot object at 0x0000018516FA7788>],\n",
       "       [<matplotlib.axes._subplots.AxesSubplot object at 0x0000018516FE08C8>,\n",
       "        <matplotlib.axes._subplots.AxesSubplot object at 0x0000018517017948>,\n",
       "        <matplotlib.axes._subplots.AxesSubplot object at 0x000001851704FA48>,\n",
       "        <matplotlib.axes._subplots.AxesSubplot object at 0x0000018517086B88>,\n",
       "        <matplotlib.axes._subplots.AxesSubplot object at 0x00000185170BFC88>],\n",
       "       [<matplotlib.axes._subplots.AxesSubplot object at 0x00000185170F7D88>,\n",
       "        <matplotlib.axes._subplots.AxesSubplot object at 0x000001851712EE48>,\n",
       "        <matplotlib.axes._subplots.AxesSubplot object at 0x0000018517167F48>,\n",
       "        <matplotlib.axes._subplots.AxesSubplot object at 0x00000185171A4088>,\n",
       "        <matplotlib.axes._subplots.AxesSubplot object at 0x00000185171DC1C8>]],\n",
       "      dtype=object)"
      ]
     },
     "execution_count": 13,
     "metadata": {},
     "output_type": "execute_result"
    },
    {
     "data": {
      "image/png": "[encoded data removed]",
      "text/plain": [
       "<Figure size 1440x1440 with 30 Axes>"
      ]
     },
     "metadata": {
      "needs_background": "light"
     },
     "output_type": "display_data"
    }
   ],
   "source": [
    "X.hist(figsize=[20,20])"
   ]
  },
  {
   "cell_type": "markdown",
   "metadata": {},
   "source": [
    "## Preparing target"
   ]
  },
  {
   "cell_type": "code",
   "execution_count": 14,
   "metadata": {},
   "outputs": [],
   "source": [
    "def encode_class(x):\n",
    "    if x == 'x':\n",
    "        return 1\n",
    "    elif x == 'y':\n",
    "        return 0\n",
    "    else:\n",
    "        return x"
   ]
  },
  {
   "cell_type": "code",
   "execution_count": 15,
   "metadata": {},
   "outputs": [],
   "source": [
    "y = [encode_class(x) for x in y]"
   ]
  },
  {
   "cell_type": "code",
   "execution_count": 16,
   "metadata": {},
   "outputs": [],
   "source": [
    "y = pd.DataFrame(y)"
   ]
  },
  {
   "cell_type": "markdown",
   "metadata": {},
   "source": [
    "Scaling data"
   ]
  },
  {
   "cell_type": "code",
   "execution_count": 17,
   "metadata": {},
   "outputs": [],
   "source": [
    "from sklearn.preprocessing import MinMaxScaler\n",
    "\n",
    "scaler = MinMaxScaler()\n",
    "X= scaler.fit_transform(X)"
   ]
  },
  {
   "cell_type": "markdown",
   "metadata": {},
   "source": [
    "## Training"
   ]
  },
  {
   "cell_type": "code",
   "execution_count": 18,
   "metadata": {},
   "outputs": [],
   "source": [
    "from sklearn.model_selection import train_test_split\n",
    "\n",
    "X_train, X_test, y_train, y_test = train_test_split(X,y,test_size=0.2)"
   ]
  },
  {
   "cell_type": "code",
   "execution_count": 19,
   "metadata": {
    "scrolled": true
   },
   "outputs": [
    {
     "name": "stderr",
     "output_type": "stream",
     "text": [
      "C:\\Users\\christopher.owen\\Anaconda3\\lib\\site-packages\\sklearn\\utils\\validation.py:760: DataConversionWarning: A column-vector y was passed when a 1d array was expected. Please change the shape of y to (n_samples, ), for example using ravel().\n",
      "  y = column_or_1d(y, warn=True)\n",
      "C:\\Users\\christopher.owen\\Anaconda3\\lib\\site-packages\\ipykernel_launcher.py:13: DataConversionWarning: A column-vector y was passed when a 1d array was expected. Please change the shape of y to (n_samples, ), for example using ravel().\n",
      "  del sys.path[0]\n"
     ]
    },
    {
     "name": "stdout",
     "output_type": "stream",
     "text": [
      "LogisticRegression\n",
      "[[335 297]\n",
      " [181 178]]\n",
      "Accuracy:  0.5176589303733602\n",
      "\n",
      "DecisionTreeClassifier\n",
      "[[266 231]\n",
      " [250 244]]\n",
      "Accuracy:  0.5146316851664985\n",
      "\n",
      "KNeighborsClassifier\n",
      "[[275 228]\n",
      " [241 247]]\n",
      "Accuracy:  0.5267406659939455\n",
      "\n"
     ]
    },
    {
     "name": "stderr",
     "output_type": "stream",
     "text": [
      "C:\\Users\\christopher.owen\\Anaconda3\\lib\\site-packages\\ipykernel_launcher.py:13: DataConversionWarning: A column-vector y was passed when a 1d array was expected. Please change the shape of y to (n_samples,), for example using ravel().\n",
      "  del sys.path[0]\n"
     ]
    },
    {
     "name": "stdout",
     "output_type": "stream",
     "text": [
      "RandomForestClassifier\n",
      "[[281 263]\n",
      " [235 212]]\n",
      "Accuracy:  0.49747729566094856\n",
      "\n",
      "LinearDiscriminantAnalysis\n",
      "[[332 296]\n",
      " [184 179]]\n",
      "Accuracy:  0.515640766902119\n",
      "\n"
     ]
    },
    {
     "name": "stderr",
     "output_type": "stream",
     "text": [
      "C:\\Users\\christopher.owen\\Anaconda3\\lib\\site-packages\\sklearn\\utils\\validation.py:760: DataConversionWarning: A column-vector y was passed when a 1d array was expected. Please change the shape of y to (n_samples, ), for example using ravel().\n",
      "  y = column_or_1d(y, warn=True)\n",
      "C:\\Users\\christopher.owen\\Anaconda3\\lib\\site-packages\\sklearn\\utils\\validation.py:760: DataConversionWarning: A column-vector y was passed when a 1d array was expected. Please change the shape of y to (n_samples, ), for example using ravel().\n",
      "  y = column_or_1d(y, warn=True)\n"
     ]
    },
    {
     "name": "stdout",
     "output_type": "stream",
     "text": [
      "SVC\n",
      "[[299 266]\n",
      " [217 209]]\n",
      "Accuracy:  0.5126135216952573\n",
      "\n"
     ]
    }
   ],
   "source": [
    "from sklearn.linear_model import LogisticRegression\n",
    "from sklearn.tree import DecisionTreeClassifier\n",
    "from sklearn.neighbors import KNeighborsClassifier\n",
    "from sklearn.ensemble import RandomForestClassifier\n",
    "from sklearn.metrics import accuracy_score, confusion_matrix\n",
    "from sklearn.discriminant_analysis import LinearDiscriminantAnalysis\n",
    "from sklearn.svm import SVC\n",
    "from sklearn.metrics import plot_confusion_matrix\n",
    "\n",
    "models = [LogisticRegression(), DecisionTreeClassifier(), KNeighborsClassifier(), RandomForestClassifier(), LinearDiscriminantAnalysis(), SVC()]\n",
    "\n",
    "for model in models:\n",
    "    model.fit(X_train,y_train)\n",
    "    preds = model.predict(X_test)\n",
    "    print(model.__class__.__name__)\n",
    "    print(confusion_matrix(preds,y_test))\n",
    "    print(\"Accuracy: \",accuracy_score(preds,y_test))\n",
    "    print()"
   ]
  },
  {
   "cell_type": "code",
   "execution_count": null,
   "metadata": {},
   "outputs": [],
   "source": []
  }
 ],
 "metadata": {
  "kernelspec": {
   "display_name": "Python 3",
   "language": "python",
   "name": "python3"
  },
  "language_info": {
   "codemirror_mode": {
    "name": "ipython",
    "version": 3
   },
   "file_extension": ".py",
   "mimetype": "text/x-python",
   "name": "python",
   "nbconvert_exporter": "python",
   "pygments_lexer": "ipython3",
   "version": "3.7.6"
  }
 },
 "nbformat": 4,
 "nbformat_minor": 2
}
